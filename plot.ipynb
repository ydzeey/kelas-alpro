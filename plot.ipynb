import matplotlib.pyplot as plt
import numpy as np

x, y = np.loadtxt('pendulum.txt', unpack=True)

plt.figure()
plt.plot(x, y, color='red')
plt.xlabel('x')
plt.ylabel('y')
plt.savefig('pendulum.pdf', bbox_inches='tight')
